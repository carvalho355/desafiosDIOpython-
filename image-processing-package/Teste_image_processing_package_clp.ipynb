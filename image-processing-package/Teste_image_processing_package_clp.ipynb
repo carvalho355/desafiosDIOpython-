{
 "cells": [
  {
   "cell_type": "code",
   "execution_count": null,
   "metadata": {},
   "outputs": [
    {
     "ename": "",
     "evalue": "",
     "output_type": "error",
     "traceback": [
      "\u001b[1;31mA execução de células com \"Python 3.10.8 64-bit (microsoft store)\" requer o pacote ipykernel.\n",
      "\u001b[1;31mExecute o seguinte comando para instalar \"ipykernel\" no ambiente do Python. \n",
      "\u001b[1;31mComando: \"\"c:/Users/carlos eduardo/AppData/Local/Microsoft/WindowsApps/python3.10.exe\" -m pip install ipykernel -U --force-reinstall\""
     ]
    }
   ],
   "source": [
    "from image_processing_clp.utils import io, plot\n",
    "from image_processing_clp.processing import combination, transformation"
   ]
  },
  {
   "cell_type": "code",
   "execution_count": null,
   "metadata": {},
   "outputs": [
    {
     "ename": "",
     "evalue": "",
     "output_type": "error",
     "traceback": [
      "\u001b[1;31mA execução de células com \"Python 3.10.8 64-bit (microsoft store)\" requer o pacote ipykernel.\n",
      "\u001b[1;31mExecute o seguinte comando para instalar \"ipykernel\" no ambiente do Python. \n",
      "\u001b[1;31mComando: \"\"c:/Users/carlos eduardo/AppData/Local/Microsoft/WindowsApps/python3.10.exe\" -m pip install ipykernel -U --force-reinstall\""
     ]
    }
   ],
   "source": [
    "image1 = io.read_image('C:\\Users\\carlos eduardo\\Pictures\\Screenshots\\Captura de tela_20221024_152756.png')\n",
    "image2 = io.read_image('C:\\Users\\carlos eduardo\\Pictures\\Screenshots\\Captura de tela_20221024_152804.png')"
   ]
  },
  {
   "cell_type": "code",
   "execution_count": null,
   "metadata": {},
   "outputs": [
    {
     "ename": "",
     "evalue": "",
     "output_type": "error",
     "traceback": [
      "\u001b[1;31mA execução de células com \"Python 3.10.8 64-bit (microsoft store)\" requer o pacote ipykernel.\n",
      "\u001b[1;31mExecute o seguinte comando para instalar \"ipykernel\" no ambiente do Python. \n",
      "\u001b[1;31mComando: \"\"c:/Users/carlos eduardo/AppData/Local/Microsoft/WindowsApps/python3.10.exe\" -m pip install ipykernel -U --force-reinstall\""
     ]
    }
   ],
   "source": [
    "plot.plot_image(image1)\n",
    "plot.plot_image(image2)"
   ]
  },
  {
   "cell_type": "code",
   "execution_count": null,
   "metadata": {},
   "outputs": [
    {
     "ename": "",
     "evalue": "",
     "output_type": "error",
     "traceback": [
      "\u001b[1;31mA execução de células com \"Python 3.10.8 64-bit (microsoft store)\" requer o pacote ipykernel.\n",
      "\u001b[1;31mExecute o seguinte comando para instalar \"ipykernel\" no ambiente do Python. \n",
      "\u001b[1;31mComando: \"\"c:/Users/carlos eduardo/AppData/Local/Microsoft/WindowsApps/python3.10.exe\" -m pip install ipykernel -U --force-reinstall\""
     ]
    }
   ],
   "source": [
    "result_image = combination.transfer_histogram(image1, image2)\n",
    "plot.result(image1, image2, result_image)"
   ]
  }
 ],
 "metadata": {
  "kernelspec": {
   "display_name": "Python 3.10.8 64-bit (microsoft store)",
   "language": "python",
   "name": "python3"
  },
  "language_info": {
   "name": "python",
   "version": "3.10.8"
  },
  "orig_nbformat": 4,
  "vscode": {
   "interpreter": {
    "hash": "7a017e9ea7b8a2c388baa7d06b596f6aa8c8835ea8d8d595962063b1837cf396"
   }
  }
 },
 "nbformat": 4,
 "nbformat_minor": 2
}
